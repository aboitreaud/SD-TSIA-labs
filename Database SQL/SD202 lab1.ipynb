{
 "cells": [
  {
   "cell_type": "markdown",
   "metadata": {
    "id": "T1v_ZkJLyDbT"
   },
   "source": [
    "# TP1 - Finding Keys using Functional Dependencies \n",
    "--------------------------\n",
    "\n",
    "In this lab, we are going to learn \n",
    "\n",
    "- how to use Jupyter\n",
    "- how to use SQLite\n",
    "- how to discover keys in relations\n",
    "\n",
    "## How to use Jupyter\n",
    "\n",
    "To execute a cell, click on it, and then use SHIFT+ENTER (this will execute the contents of the cell, and move down to the next one!)\n",
    "\n",
    "To edit a cell, click on it. If the cell uses markdown code, then use ENTER to edit it.\n",
    "\n",
    "See the Help menu for other useful keyboard commands. You can always use the menu bar instead as well.\n"
   ]
  },
  {
   "cell_type": "code",
   "execution_count": 1,
   "metadata": {
    "id": "AMSOVdRWyDba",
    "outputId": "710689c9-b902-42e1-ed27-5ece268453dc"
   },
   "outputs": [
    {
     "name": "stdout",
     "output_type": "stream",
     "text": [
      "Hello world!\n"
     ]
    }
   ],
   "source": [
    "print(\"Hello world!\")"
   ]
  },
  {
   "cell_type": "markdown",
   "metadata": {
    "id": "Jw0KHWGfyDbd"
   },
   "source": [
    "Another example:"
   ]
  },
  {
   "cell_type": "code",
   "execution_count": 2,
   "metadata": {
    "colab": {
     "base_uri": "https://localhost:8080/"
    },
    "executionInfo": {
     "elapsed": 169,
     "status": "ok",
     "timestamp": 1653318975169,
     "user": {
      "displayName": "Maroua Bahri",
      "userId": "12892645538061693421"
     },
     "user_tz": -120
    },
    "id": "xIgyvA26yDbd",
    "outputId": "1e3295e1-ebc7-414a-fe99-2511c7f25ab1"
   },
   "outputs": [
    {
     "name": "stdout",
     "output_type": "stream",
     "text": [
      "1\n",
      "2\n",
      "3\n",
      "4\n",
      "5\n",
      "6\n",
      "7\n",
      "8\n",
      "9\n"
     ]
    }
   ],
   "source": [
    "for i in range(1,10):\n",
    "    print(i)"
   ]
  },
  {
   "cell_type": "markdown",
   "metadata": {
    "id": "gaeU4Xd3yDbe"
   },
   "source": [
    "#### Exercise 1\n",
    "\n",
    "Print numbers 1 to 9 in reverse order"
   ]
  },
  {
   "cell_type": "code",
   "execution_count": 3,
   "metadata": {
    "id": "g32HavP8yDbf",
    "outputId": "3ac6e095-09a4-4ad1-9396-bf5b71434aab"
   },
   "outputs": [
    {
     "name": "stdout",
     "output_type": "stream",
     "text": [
      "9\n",
      "8\n",
      "7\n",
      "6\n",
      "5\n",
      "4\n",
      "3\n",
      "2\n",
      "1\n"
     ]
    }
   ],
   "source": [
    "for i in range(9,0,-1):\n",
    "    print(i)"
   ]
  },
  {
   "cell_type": "markdown",
   "metadata": {
    "id": "8thc2JUIyDbg"
   },
   "source": [
    "## How to use SQLite\n",
    "\n",
    "To work with SQL easily in a notebook, we'll load the ipython-sql extension as follows:"
   ]
  },
  {
   "cell_type": "code",
   "execution_count": 4,
   "metadata": {
    "id": "MdLx1Py6yDbg"
   },
   "outputs": [],
   "source": [
    "%load_ext sql\n",
    "%sql sqlite://"
   ]
  },
  {
   "cell_type": "markdown",
   "metadata": {
    "id": "0ZvCWATgyDbi"
   },
   "source": [
    "We are going to create a table:"
   ]
  },
  {
   "cell_type": "code",
   "execution_count": 5,
   "metadata": {
    "id": "5QAEcKhwyDbi",
    "outputId": "eafbaf5f-bf13-4958-ad2c-b2ad30344e3b"
   },
   "outputs": [
    {
     "name": "stdout",
     "output_type": "stream",
     "text": [
      " * sqlite://\n",
      "Done.\n",
      "Done.\n",
      "1 rows affected.\n",
      "1 rows affected.\n",
      "1 rows affected.\n"
     ]
    },
    {
     "data": {
      "text/plain": [
       "[]"
      ]
     },
     "execution_count": 5,
     "metadata": {},
     "output_type": "execute_result"
    }
   ],
   "source": [
    "%%sql DROP TABLE IF EXISTS T;\n",
    "CREATE TABLE T(course VARCHAR, classroom INT, time INT);\n",
    "INSERT INTO T VALUES ('CS 364', 132, 900);\n",
    "INSERT INTO T VALUES ('CS 245', 140, 1000);\n",
    "INSERT INTO T VALUES ('EE 101', 210, 900);"
   ]
  },
  {
   "cell_type": "markdown",
   "metadata": {
    "id": "FZmVah1ZyDbj"
   },
   "source": [
    "Let's run our first SQL query:"
   ]
  },
  {
   "cell_type": "code",
   "execution_count": 6,
   "metadata": {
    "id": "pytdMtsGyDbk",
    "outputId": "fb05e1ec-9aac-4c6e-9244-da52ab4ad15b"
   },
   "outputs": [
    {
     "name": "stdout",
     "output_type": "stream",
     "text": [
      " * sqlite://\n",
      "Done.\n"
     ]
    },
    {
     "data": {
      "text/html": [
       "<table>\n",
       "    <tr>\n",
       "        <th>course</th>\n",
       "        <th>classroom</th>\n",
       "        <th>time</th>\n",
       "    </tr>\n",
       "    <tr>\n",
       "        <td>CS 364</td>\n",
       "        <td>132</td>\n",
       "        <td>900</td>\n",
       "    </tr>\n",
       "    <tr>\n",
       "        <td>CS 245</td>\n",
       "        <td>140</td>\n",
       "        <td>1000</td>\n",
       "    </tr>\n",
       "    <tr>\n",
       "        <td>EE 101</td>\n",
       "        <td>210</td>\n",
       "        <td>900</td>\n",
       "    </tr>\n",
       "</table>"
      ],
      "text/plain": [
       "[('CS 364', 132, 900), ('CS 245', 140, 1000), ('EE 101', 210, 900)]"
      ]
     },
     "execution_count": 6,
     "metadata": {},
     "output_type": "execute_result"
    }
   ],
   "source": [
    "%sql SELECT * FROM T LIMIT 3;"
   ]
  },
  {
   "cell_type": "markdown",
   "metadata": {
    "id": "Ho_MvtaDyDbk"
   },
   "source": [
    "#### Exercise 2\n",
    "\n",
    "List the name of the courses with time less than 950"
   ]
  },
  {
   "cell_type": "code",
   "execution_count": 13,
   "metadata": {
    "id": "TDI1W1xnyDbl",
    "outputId": "9ad9a45f-f06f-433d-aade-9a8fc3f11f62"
   },
   "outputs": [
    {
     "name": "stdout",
     "output_type": "stream",
     "text": [
      " * sqlite://\n",
      "Done.\n"
     ]
    },
    {
     "data": {
      "text/html": [
       "<table>\n",
       "    <tr>\n",
       "        <th>course</th>\n",
       "    </tr>\n",
       "    <tr>\n",
       "        <td>CS 364</td>\n",
       "    </tr>\n",
       "    <tr>\n",
       "        <td>EE 101</td>\n",
       "    </tr>\n",
       "</table>"
      ],
      "text/plain": [
       "[('CS 364',), ('EE 101',)]"
      ]
     },
     "execution_count": 13,
     "metadata": {},
     "output_type": "execute_result"
    }
   ],
   "source": [
    "%sql SELECT course FROM T WHERE time < 950;"
   ]
  },
  {
   "cell_type": "markdown",
   "metadata": {
    "id": "tYTsPYTbyDbl"
   },
   "source": [
    "## How to discover keys in relations\n",
    "\n",
    "Now, we are going to work with functional dependencies, keys and closures. Our final goal is going to build a method to find keys in a relation.\n",
    "\n",
    "### Functional Dependencies\n",
    "\n",
    "Recall that given a set of attributes  $\\{A_1, \\dots, A_n\\}$ and a set of FDs $\\Gamma$\n",
    "\n",
    "The closure, denoted $\\{A_1, \\dots, A_n\\}^+$, is defined to be the largest set of attributes B s.t. $$A_1,\\dots,A_n \\rightarrow B \\text{ using } \\Gamma.$$\n",
    "\n",
    "We're going to use some functions to compute the closure of a set of attributes and other such operations (_from CS145 Stanford_)"
   ]
  },
  {
   "cell_type": "code",
   "execution_count": 14,
   "metadata": {
    "id": "m54s0mnpyDbm"
   },
   "outputs": [],
   "source": [
    "# Source code\n",
    "\n",
    "def to_set(x):\n",
    "  \"\"\"Convert input int, string, list, tuple, set -> set\"\"\"\n",
    "  if type(x) == set:\n",
    "    return x\n",
    "  elif type(x) in [list, set]:\n",
    "    return set(x)\n",
    "  elif type(x) in [str, int]:\n",
    "    return set([x])\n",
    "  else:\n",
    "    raise Exception(\"Unrecognized type.\")\n",
    "\n",
    "def fd_to_str(lr_tuple): return \",\".join(to_set(lr_tuple[0])) + \" -> \" + \",\".join(to_set(lr_tuple[1]))\n",
    "\n",
    "def fds_to_str(fds): return \"\\n\\t\".join(map(fd_to_str, fds))\n",
    "\n",
    "def set_to_str(x): return \"{\" + \",\".join(x) + \"}\"\n",
    "\n",
    "def fd_applies_to(fd, x): \n",
    "  lhs, rhs = map(to_set, fd)\n",
    "  return lhs.issubset(x)\n",
    "\n",
    "def print_setup(A, fds):\n",
    "  print(\"Attributes = \" + set_to_str(A))\n",
    "  print(\"FDs = \\t\" + fds_to_str(fds))\n",
    "\n",
    "def print_fds(fds):\n",
    "  print(\"FDs = \\t\" + fds_to_str(fds))    \n"
   ]
  },
  {
   "cell_type": "markdown",
   "metadata": {
    "id": "lfLn7MIKyDbn"
   },
   "source": [
    "Now, let's look at a concrete example. For example, the code for\n",
    "\n",
    "attributes = { name, category, color, department, price}\n",
    "\n",
    "and functional dependencies:\n",
    "\n",
    "name $\\rightarrow$ color\n",
    "\n",
    "category $\\rightarrow$ department\n",
    "\n",
    "color, category $\\rightarrow$ price\n",
    "\n",
    "is the following:"
   ]
  },
  {
   "cell_type": "code",
   "execution_count": 15,
   "metadata": {
    "id": "WLCJxwLVyDbn",
    "outputId": "b9253ab6-a84d-4f3a-fb18-c31ab985f639"
   },
   "outputs": [
    {
     "name": "stdout",
     "output_type": "stream",
     "text": [
      "Attributes = {color,name,price,category,department}\n",
      "FDs = \tname -> color\n",
      "\tcategory -> department\n",
      "\tcolor,category -> price\n"
     ]
    }
   ],
   "source": [
    "attributes  = set([\"name\", \"category\", \"color\", \"department\", \"price\"]) # These are the attribute set.\n",
    "fds = [(set([\"name\"]),\"color\"),\n",
    "         (set([\"category\"]), \"department\"),\n",
    "         (set([\"color\", \"category\"]), \"price\")]\n",
    "\n",
    "print_setup(attributes, fds)"
   ]
  },
  {
   "cell_type": "markdown",
   "metadata": {
    "id": "vL9WLBMTyDbo"
   },
   "source": [
    "### Closure of a set of Attributes\n",
    "\n",
    "Let's implement the algorithm for obtaining the closure of a set of attributes:"
   ]
  },
  {
   "cell_type": "code",
   "execution_count": 16,
   "metadata": {
    "id": "8zTFDj-HyDbo"
   },
   "outputs": [],
   "source": [
    "def compute_closure(x, fds, verbose=False):\n",
    "    bChanged = True        # We will repeat until there are no changes.\n",
    "    x_ret    = x.copy()    # Make a copy of the input to hold x^{+}\n",
    "    while bChanged:\n",
    "        bChanged = False   # Must change on each iteration\n",
    "        for fd in fds:     # loop through all the FDs.\n",
    "            (lhs, rhs) = map(to_set, fd) # recall: lhs -> rhs\n",
    "            if fd_applies_to(fd, x_ret) and not rhs.issubset(x_ret):\n",
    "                x_ret = x_ret.union(rhs)\n",
    "                if verbose:\n",
    "                    print(\"Using FD \" + fd_to_str(fd))\n",
    "                    print(\"\\t Updated x to \" + set_to_str(x_ret))\n",
    "                bChanged = True\n",
    "    return x_ret"
   ]
  },
  {
   "cell_type": "markdown",
   "metadata": {
    "id": "obmU84y9yDbp"
   },
   "source": [
    "As an example, let's compute the closure for the attribute \"name\":"
   ]
  },
  {
   "cell_type": "code",
   "execution_count": 20,
   "metadata": {
    "id": "Q3OKAi80yDbp",
    "outputId": "e1f212f5-3150-495e-9e23-688d742b2143"
   },
   "outputs": [
    {
     "name": "stdout",
     "output_type": "stream",
     "text": [
      "Using FD name -> color\n",
      "\t Updated x to {color,name}\n"
     ]
    },
    {
     "data": {
      "text/plain": [
       "{'color', 'name'}"
      ]
     },
     "execution_count": 20,
     "metadata": {},
     "output_type": "execute_result"
    }
   ],
   "source": [
    "A = set([\"name\"])\n",
    "compute_closure(A,fds,True)"
   ]
  },
  {
   "cell_type": "markdown",
   "metadata": {
    "id": "gXzl4MqPyDbq"
   },
   "source": [
    "#### Exercise 3\n",
    "\n",
    "Is the attribute \"name\" a superkey for this relation? Why?"
   ]
  },
  {
   "cell_type": "markdown",
   "metadata": {
    "id": "TXblBfVryDbr"
   },
   "source": [
    "Name is not a superkey since the attributes department, color, and price are not in its closure."
   ]
  },
  {
   "cell_type": "markdown",
   "metadata": {
    "id": "5iC6Ri-AyDbr"
   },
   "source": [
    "### Keys and Superkeys\n",
    "\n",
    "Next, we'll add some new functions now for finding superkeys and keys.  Recall:\n",
    "* A _superkey_ for a relation $R(B_1,\\dots,B_m)$ is a set of attributes $\\{A_1,\\dots,A_n\\}$ s.t.\n",
    "$$ \\{A_1,\\dots,A_n\\} \\rightarrow B_{j} \\text{ for all } j=1,\\dots m$$\n",
    "* A _key_ is a minimal (setwise) _superkey_\n",
    "\n",
    "The algorithm to determine if a set of attributes $A$ is a superkey for $X$ is actually very simple (check if $A^+=X$):"
   ]
  },
  {
   "cell_type": "code",
   "execution_count": 18,
   "metadata": {
    "id": "ylk-K5lzyDbr"
   },
   "outputs": [],
   "source": [
    "def is_superkey_for(A, X, fds, verbose=False): \n",
    "    return X.issubset(compute_closure(A, fds, verbose=verbose))"
   ]
  },
  {
   "cell_type": "markdown",
   "metadata": {
    "id": "c3eu96uGyDbr"
   },
   "source": [
    "#### Exercise 4\n",
    "\n",
    "Is \"name\" a superkey of the relation?"
   ]
  },
  {
   "cell_type": "code",
   "execution_count": 22,
   "metadata": {
    "id": "jlwWF9FVyDbs"
   },
   "outputs": [
    {
     "name": "stdout",
     "output_type": "stream",
     "text": [
      "False, name is not a superkey of the relation\n"
     ]
    }
   ],
   "source": [
    "if is_superkey_for(set([\"name\"]), attributes, fds):\n",
    "    print('True, name is a superkey of the relation')\n",
    "else:\n",
    "    print('False, name is not a superkey of the relation')"
   ]
  },
  {
   "cell_type": "markdown",
   "metadata": {
    "id": "Y3v2FXSZyDbs"
   },
   "source": [
    "Then, to check if $A$ is a key for $X$, we just confirm that:\n",
    "* (a) it is a superkey\n",
    "* (b) there are no smaller superkeys (_Note that we only need to check for superkeys of one size smaller_)"
   ]
  },
  {
   "cell_type": "code",
   "execution_count": 23,
   "metadata": {
    "id": "Pjp-LX3IyDbs"
   },
   "outputs": [],
   "source": [
    "import itertools\n",
    "def is_key_for(A, X, fds, verbose=False):\n",
    "    subsets = set(itertools.combinations(A, len(A)-1))\n",
    "    return is_superkey_for(A, X, fds) and \\\n",
    "        all([not is_superkey_for(set(SA), X, fds) for SA in subsets])"
   ]
  },
  {
   "cell_type": "markdown",
   "metadata": {
    "id": "R87XzMwAyDbt"
   },
   "source": [
    "Now, let's look at another example:\n",
    "\n",
    "attributes = { cru, type, client, remise}\n",
    "\n",
    "and functional dependencies:\n",
    "\n",
    "cru $\\rightarrow$ type\n",
    "\n",
    "type, client $\\rightarrow$ remise\n",
    "\n",
    "#### Exercise 5\n",
    "\n",
    "Is \"cru\" and \"client\" a key of the relation? Why?"
   ]
  },
  {
   "cell_type": "code",
   "execution_count": 25,
   "metadata": {
    "id": "H848fN5QyDbt"
   },
   "outputs": [
    {
     "name": "stdout",
     "output_type": "stream",
     "text": [
      "True\n"
     ]
    }
   ],
   "source": [
    "attributes = {'cru', 'type', 'client', 'remise'}\n",
    "fds = [({'cru'},'type'),\n",
    "         ({'type', 'client'}, 'remise')]\n",
    "print(is_key_for({'cru', 'client'}, attributes, fds))"
   ]
  },
  {
   "cell_type": "markdown",
   "metadata": {
    "id": "6uk6MXOFyDbt"
   },
   "source": [
    "Because it's a superkey and it is minimal. "
   ]
  },
  {
   "cell_type": "markdown",
   "metadata": {
    "id": "5O2S1DeCyDcJ"
   },
   "source": [
    "### Inferring FDs\n",
    "\n",
    "The algorithm to find the closure of a set of attributes given a set of functional dependencies is the following:"
   ]
  },
  {
   "cell_type": "code",
   "execution_count": 26,
   "metadata": {
    "id": "wi9HFDyEyDcJ"
   },
   "outputs": [],
   "source": [
    "import itertools\n",
    "def findsubsets(S,m):\n",
    "    return set(itertools.combinations(S, m))\n",
    "def closure(X, fds, verbose=False):\n",
    "    c = []\n",
    "    for size in range(1, len(X)):\n",
    "        subsets = findsubsets(X, size) \n",
    "        for SA in subsets:      # loop through all the subsets.\n",
    "            cl = compute_closure(set(SA), fds, verbose)\n",
    "            if len(cl.difference(SA)) > 0: \n",
    "                c.extend([(set(SA), cl)])\n",
    "    return c"
   ]
  },
  {
   "cell_type": "markdown",
   "metadata": {
    "id": "W--dSsGyeLE5"
   },
   "source": [
    "Let's see some example of how to use it:"
   ]
  },
  {
   "cell_type": "code",
   "execution_count": 27,
   "metadata": {
    "colab": {
     "base_uri": "https://localhost:8080/"
    },
    "executionInfo": {
     "elapsed": 8,
     "status": "ok",
     "timestamp": 1653319148686,
     "user": {
      "displayName": "Maroua Bahri",
      "userId": "12892645538061693421"
     },
     "user_tz": -120
    },
    "id": "OL9aTHjVeWMJ",
    "outputId": "35b4174b-4f35-419c-e9b5-3cdb4dce3f39"
   },
   "outputs": [
    {
     "data": {
      "text/plain": [
       "[({'B'}, {'B', 'D'}),\n",
       " ({'A', 'B'}, {'A', 'B', 'C', 'D'}),\n",
       " ({'B', 'C'}, {'B', 'C', 'D'}),\n",
       " ({'A', 'D'}, {'A', 'B', 'C', 'D'}),\n",
       " ({'A', 'C', 'D'}, {'A', 'B', 'C', 'D'}),\n",
       " ({'A', 'B', 'D'}, {'A', 'B', 'C', 'D'}),\n",
       " ({'A', 'B', 'C'}, {'A', 'B', 'C', 'D'})]"
      ]
     },
     "execution_count": 27,
     "metadata": {},
     "output_type": "execute_result"
    }
   ],
   "source": [
    "attributes1 = set(['A', 'B', 'C', 'D'])\n",
    "fds1 = [(set(['A', 'B']), 'C'),\n",
    "     (set(['A', 'D']), 'B'),\n",
    "     (set(['B']), 'D')]\n",
    "closure(attributes1,fds1)"
   ]
  },
  {
   "cell_type": "markdown",
   "metadata": {
    "id": "mWe4ip18ei4p"
   },
   "source": [
    "Let's remove the attributes for which we are computing the closure from the closure"
   ]
  },
  {
   "cell_type": "code",
   "execution_count": 29,
   "metadata": {
    "id": "17sMDFxjeogP"
   },
   "outputs": [],
   "source": [
    "def closureDifference(X, fds, verbose=False):\n",
    "    c = []\n",
    "    for size in range(1, len(X)):\n",
    "        subsets = findsubsets(X, size) \n",
    "        for SA in subsets:      # loop through all the subsets.\n",
    "            cl = compute_closure(set(SA), fds, verbose)\n",
    "            if len(cl.difference(SA)) > 0: \n",
    "                c.extend([(set(SA), cl.difference(SA))])\n",
    "    return c"
   ]
  },
  {
   "cell_type": "markdown",
   "metadata": {
    "id": "jhYpLfQCyDcK"
   },
   "source": [
    "Let's see some examples of how to use it to infer the functional dependencies with the previous example:"
   ]
  },
  {
   "cell_type": "code",
   "execution_count": 30,
   "metadata": {
    "colab": {
     "base_uri": "https://localhost:8080/"
    },
    "executionInfo": {
     "elapsed": 214,
     "status": "ok",
     "timestamp": 1653319155880,
     "user": {
      "displayName": "Maroua Bahri",
      "userId": "12892645538061693421"
     },
     "user_tz": -120
    },
    "id": "97BYQgRJyDcK",
    "outputId": "d29ec2b8-0fd1-4dc5-dc83-ca042e4e4840"
   },
   "outputs": [
    {
     "name": "stdout",
     "output_type": "stream",
     "text": [
      "FDs = \tB -> D\n",
      "\tB,A -> C,D\n",
      "\tC,B -> D\n",
      "\tA,D -> C,B\n",
      "\tC,A,D -> B\n",
      "\tB,A,D -> C\n",
      "\tC,B,A -> D\n"
     ]
    }
   ],
   "source": [
    "print_fds(closureDifference(attributes1, fds1))\n"
   ]
  },
  {
   "cell_type": "code",
   "execution_count": 31,
   "metadata": {
    "id": "ZiXxN3hgyDcL",
    "outputId": "59e4b700-a632-4b53-c917-a00fee30cdb6"
   },
   "outputs": [
    {
     "name": "stdout",
     "output_type": "stream",
     "text": [
      "FDs = \tCRU -> TYPE,CRU\n",
      "\tCLIENT,TYPE -> CLIENT,TYPE,REMISE\n",
      "\tREMISE,CRU -> TYPE,REMISE,CRU\n",
      "\tCLIENT,CRU -> CLIENT,TYPE,REMISE,CRU\n",
      "\tCLIENT,TYPE,CRU -> CLIENT,TYPE,REMISE,CRU\n",
      "\tCLIENT,REMISE,CRU -> CLIENT,TYPE,REMISE,CRU\n"
     ]
    }
   ],
   "source": [
    "attributes2 = set (['CRU', 'TYPE', 'CLIENT', 'REMISE'])\n",
    "fds2 = [(set(['CRU']), 'TYPE'),\n",
    "     (set(['TYPE', 'CLIENT']), 'REMISE')]\n",
    "print_fds(closure(attributes2, fds2))"
   ]
  },
  {
   "cell_type": "code",
   "execution_count": 32,
   "metadata": {
    "id": "MCaMTK09yDcL",
    "outputId": "f2a60d7e-7a3a-4828-e6bf-2147a5fa602a"
   },
   "outputs": [
    {
     "name": "stdout",
     "output_type": "stream",
     "text": [
      "FDs = \tTYPE -> TYPE,PUISSANCE,MARQUE\n",
      "\tN VEH -> MARQUE,N VEH,COULEUR,TYPE,PUISSANCE\n",
      "\tN VEH,MARQUE -> MARQUE,N VEH,COULEUR,TYPE,PUISSANCE\n",
      "\tN VEH,PUISSANCE -> MARQUE,N VEH,COULEUR,TYPE,PUISSANCE\n",
      "\tCOULEUR,TYPE -> COULEUR,TYPE,PUISSANCE,MARQUE\n",
      "\tTYPE,PUISSANCE -> TYPE,PUISSANCE,MARQUE\n",
      "\tMARQUE,TYPE -> MARQUE,TYPE,PUISSANCE\n",
      "\tN VEH,COULEUR -> MARQUE,N VEH,COULEUR,TYPE,PUISSANCE\n",
      "\tN VEH,TYPE -> MARQUE,N VEH,COULEUR,TYPE,PUISSANCE\n",
      "\tN VEH,COULEUR,PUISSANCE -> MARQUE,N VEH,COULEUR,TYPE,PUISSANCE\n",
      "\tN VEH,MARQUE,TYPE -> MARQUE,N VEH,COULEUR,TYPE,PUISSANCE\n",
      "\tN VEH,COULEUR,MARQUE -> MARQUE,N VEH,COULEUR,TYPE,PUISSANCE\n",
      "\tCOULEUR,TYPE,PUISSANCE -> COULEUR,TYPE,PUISSANCE,MARQUE\n",
      "\tN VEH,TYPE,PUISSANCE -> MARQUE,N VEH,COULEUR,TYPE,PUISSANCE\n",
      "\tCOULEUR,MARQUE,TYPE -> COULEUR,MARQUE,TYPE,PUISSANCE\n",
      "\tN VEH,COULEUR,TYPE -> MARQUE,N VEH,COULEUR,TYPE,PUISSANCE\n",
      "\tN VEH,MARQUE,PUISSANCE -> MARQUE,N VEH,COULEUR,TYPE,PUISSANCE\n",
      "\tN VEH,COULEUR,MARQUE,PUISSANCE -> MARQUE,N VEH,COULEUR,TYPE,PUISSANCE\n",
      "\tN VEH,COULEUR,MARQUE,TYPE -> MARQUE,N VEH,COULEUR,TYPE,PUISSANCE\n",
      "\tN VEH,COULEUR,TYPE,PUISSANCE -> MARQUE,N VEH,COULEUR,TYPE,PUISSANCE\n",
      "\tN VEH,MARQUE,TYPE,PUISSANCE -> MARQUE,N VEH,COULEUR,TYPE,PUISSANCE\n"
     ]
    }
   ],
   "source": [
    "attributes3 = set( ['N VEH', 'TYPE', 'COULEUR', 'MARQUE', 'PUISSANCE'])\n",
    "fds3 = [(set(['N VEH']), 'TYPE'), \n",
    "      (set(['N VEH']), 'COULEUR'),\n",
    "      (set(['TYPE']), 'MARQUE'),\n",
    "      (set(['TYPE']), 'PUISSANCE')]\n",
    "print_fds(closure(attributes3,fds3))"
   ]
  },
  {
   "cell_type": "markdown",
   "metadata": {
    "id": "_svf70sUyDcL"
   },
   "source": [
    "Now, let's write a method to find superkeys of the relations:\n"
   ]
  },
  {
   "cell_type": "code",
   "execution_count": 33,
   "metadata": {
    "id": "eayXidVRyDcM"
   },
   "outputs": [],
   "source": [
    "def superkeys(X, fds, verbose=False):\n",
    "    c = []\n",
    "    for size in range(1, len(X)):\n",
    "        subsets = findsubsets(X, size)\n",
    "        for SA in subsets:\n",
    "            cl = compute_closure(set(SA), fds, verbose)\n",
    "            if cl == X and len(cl.difference(SA)) > 0: ## cl = X\n",
    "                c.extend([SA])\n",
    "    return c"
   ]
  },
  {
   "cell_type": "code",
   "execution_count": 34,
   "metadata": {
    "id": "6rY6-tcuyDcM",
    "outputId": "f2b6518a-d73c-4077-866c-b3e67a2f0580"
   },
   "outputs": [
    {
     "data": {
      "text/plain": [
       "[('B', 'A'), ('A', 'D'), ('C', 'A', 'D'), ('B', 'A', 'D'), ('C', 'B', 'A')]"
      ]
     },
     "execution_count": 34,
     "metadata": {},
     "output_type": "execute_result"
    }
   ],
   "source": [
    "superkeys(attributes1, fds1)\n"
   ]
  },
  {
   "cell_type": "markdown",
   "metadata": {
    "id": "_h-S4qNOyDcM"
   },
   "source": [
    "Let's see some examples:"
   ]
  },
  {
   "cell_type": "code",
   "execution_count": 35,
   "metadata": {
    "id": "UeOZhuLxyDcM",
    "outputId": "72c9f629-5c22-4b74-ab51-f698a0d2907d"
   },
   "outputs": [
    {
     "data": {
      "text/plain": [
       "[('CLIENT', 'CRU'), ('CLIENT', 'TYPE', 'CRU'), ('CLIENT', 'REMISE', 'CRU')]"
      ]
     },
     "execution_count": 35,
     "metadata": {},
     "output_type": "execute_result"
    }
   ],
   "source": [
    "superkeys(attributes2, fds2)\n"
   ]
  },
  {
   "cell_type": "code",
   "execution_count": 43,
   "metadata": {
    "id": "nBLaXcf0yDcN",
    "outputId": "ff60446c-bb80-4e40-fbfa-d5c029defa51"
   },
   "outputs": [
    {
     "data": {
      "text/plain": [
       "[('N VEH',),\n",
       " ('MARQUE', 'N VEH'),\n",
       " ('N VEH', 'PUISSANCE'),\n",
       " ('COULEUR', 'N VEH'),\n",
       " ('TYPE', 'N VEH'),\n",
       " ('COULEUR', 'N VEH', 'PUISSANCE'),\n",
       " ('MARQUE', 'TYPE', 'N VEH'),\n",
       " ('MARQUE', 'COULEUR', 'N VEH'),\n",
       " ('TYPE', 'N VEH', 'PUISSANCE'),\n",
       " ('COULEUR', 'TYPE', 'N VEH'),\n",
       " ('MARQUE', 'N VEH', 'PUISSANCE'),\n",
       " ('MARQUE', 'COULEUR', 'N VEH', 'PUISSANCE'),\n",
       " ('MARQUE', 'COULEUR', 'TYPE', 'N VEH'),\n",
       " ('COULEUR', 'TYPE', 'N VEH', 'PUISSANCE'),\n",
       " ('MARQUE', 'TYPE', 'N VEH', 'PUISSANCE')]"
      ]
     },
     "execution_count": 43,
     "metadata": {},
     "output_type": "execute_result"
    }
   ],
   "source": [
    "superkeys(attributes3, fds3)"
   ]
  },
  {
   "cell_type": "markdown",
   "metadata": {
    "id": "kTi-LJSHyDcN"
   },
   "source": [
    "#### Exercise 6\n",
    "\n",
    "Implement a method to find the keys of a relation"
   ]
  },
  {
   "cell_type": "code",
   "execution_count": 62,
   "metadata": {
    "id": "EywQw_EFyDcN",
    "tags": []
   },
   "outputs": [
    {
     "data": {
      "text/plain": [
       "{'CLIENT', 'CRU'}"
      ]
     },
     "execution_count": 62,
     "metadata": {},
     "output_type": "execute_result"
    }
   ],
   "source": [
    "import numpy as np\n",
    "def find_keys(X, fds, verbose=False):\n",
    "    k=[]\n",
    "    sk = superkeys(X, fds, verbose)\n",
    "    key_size = np.min([len(elem) for elem in sk])\n",
    "    for elem in sk:\n",
    "        if len(elem) == key_size:\n",
    "            k += elem\n",
    "    return set(k)\n",
    "    \n",
    "find_keys(attributes2, fds2)"
   ]
  },
  {
   "cell_type": "code",
   "execution_count": 57,
   "metadata": {},
   "outputs": [
    {
     "name": "stdout",
     "output_type": "stream",
     "text": [
      "[('CLIENT', 'CRU'), ('CLIENT', 'TYPE', 'CRU'), ('CLIENT', 'REMISE', 'CRU')]\n"
     ]
    }
   ],
   "source": [
    "sk = superkeys(attributes2, fds2)\n",
    "print([elem for elem in sk])"
   ]
  },
  {
   "cell_type": "markdown",
   "metadata": {
    "id": "ZKNC5oiEyDcN"
   },
   "source": [
    "Test it "
   ]
  },
  {
   "cell_type": "code",
   "execution_count": null,
   "metadata": {
    "id": "TsTN6freyDcO",
    "outputId": "eae395db-d0f4-4386-96ca-d4dc788c5702"
   },
   "outputs": [
    {
     "data": {
      "text/plain": [
       "{'CLIENT', 'CRU'}"
      ]
     },
     "execution_count": 25,
     "metadata": {},
     "output_type": "execute_result"
    }
   ],
   "source": [
    "keys(attributes, fds)"
   ]
  },
  {
   "cell_type": "code",
   "execution_count": null,
   "metadata": {
    "id": "XcMj5MObyDcO",
    "outputId": "621fb7f2-be15-46f5-f6be-5cb9159b5865"
   },
   "outputs": [
    {
     "data": {
      "text/plain": [
       "{'CLIENT', 'CRU'}"
      ]
     },
     "execution_count": 26,
     "metadata": {},
     "output_type": "execute_result"
    }
   ],
   "source": [
    "keys(attributes2, fds2)"
   ]
  },
  {
   "cell_type": "code",
   "execution_count": null,
   "metadata": {
    "id": "oNea6PlyyDcO",
    "outputId": "46d75d68-6d9e-4fc1-cd15-2aaff3fedf6b"
   },
   "outputs": [
    {
     "data": {
      "text/plain": [
       "{'N VEH'}"
      ]
     },
     "execution_count": 27,
     "metadata": {},
     "output_type": "execute_result"
    }
   ],
   "source": [
    "keys(attributes3, fds3)"
   ]
  },
  {
   "cell_type": "code",
   "execution_count": null,
   "metadata": {
    "id": "mnQndDqFyDcO",
    "tags": []
   },
   "outputs": [],
   "source": []
  }
 ],
 "metadata": {
  "anaconda-cloud": {},
  "colab": {
   "collapsed_sections": [],
   "name": "SD202 (créneau D)-TP1.ipynb",
   "provenance": []
  },
  "kernelspec": {
   "display_name": "Python 3 (ipykernel)",
   "language": "python",
   "name": "python3"
  },
  "language_info": {
   "codemirror_mode": {
    "name": "ipython",
    "version": 3
   },
   "file_extension": ".py",
   "mimetype": "text/x-python",
   "name": "python",
   "nbconvert_exporter": "python",
   "pygments_lexer": "ipython3",
   "version": "3.7.0"
  }
 },
 "nbformat": 4,
 "nbformat_minor": 4
}
