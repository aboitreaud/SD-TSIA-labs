{
 "cells": [
  {
   "cell_type": "markdown",
   "metadata": {
    "colab_type": "text",
    "id": "iafPdtuncbq7"
   },
   "source": [
    "<h1><center>Autoencoder on MNIST using Keras<center></h1>\n",
    "<h3><center>Adrien Boitreaud<center></h3>"
   ]
  },
  {
   "cell_type": "code",
   "execution_count": 1,
   "metadata": {},
   "outputs": [],
   "source": [
    "import matplotlib.pyplot as plt\n",
    "%matplotlib inline\n",
    "import numpy as np\n",
    "from sklearn.decomposition import PCA"
   ]
  },
  {
   "cell_type": "markdown",
   "metadata": {
    "colab_type": "text",
    "id": "I4VrCB5La5rD"
   },
   "source": [
    "## Importing Keras"
   ]
  },
  {
   "cell_type": "code",
   "execution_count": 2,
   "metadata": {
    "colab": {
     "base_uri": "https://localhost:8080/",
     "height": 50
    },
    "colab_type": "code",
    "id": "OlKZ3Hnas7B4",
    "outputId": "c68acc01-8a3d-428b-adb6-c35d61a2a868"
   },
   "outputs": [
    {
     "name": "stdout",
     "output_type": "stream",
     "text": [
      "Using tensorflow version 2.7.0\n",
      "Using keras version 2.7.0\n"
     ]
    }
   ],
   "source": [
    "import tensorflow as tf\n",
    "import tensorflow.keras as keras\n",
    "print(\"Using tensorflow version \" + str(tf.__version__))\n",
    "print(\"Using keras version \" + str(keras.__version__))"
   ]
  },
  {
   "cell_type": "markdown",
   "metadata": {
    "colab_type": "text",
    "id": "s_QLz9_jbRZq"
   },
   "source": [
    "## Loading and preparing the MNIST dataset"
   ]
  },
  {
   "cell_type": "markdown",
   "metadata": {
    "colab_type": "text",
    "id": "qLtK5hWxUUDD"
   },
   "source": [
    "Load the MNIST dataset via keras.datasets. Again, turn train and test labels into one-hot encoding, and reshape and normalize data as in the first exercise. "
   ]
  },
  {
   "cell_type": "code",
   "execution_count": 3,
   "metadata": {
    "cellView": "both",
    "colab": {
     "base_uri": "https://localhost:8080/",
     "height": 84
    },
    "colab_type": "code",
    "id": "gG83hGyVmijn",
    "outputId": "196d30d8-63d4-4737-c472-ada2e56f583d"
   },
   "outputs": [
    {
     "name": "stdout",
     "output_type": "stream",
     "text": [
      "There are 60000 images in the train set\n",
      "There are 10000 images in the test set\n"
     ]
    }
   ],
   "source": [
    "# The MNSIT dataset is ready to be imported from Keras into RAM\n",
    "# Warning: you cannot do that for larger databases (e.g., ImageNet)\n",
    "from keras.datasets import mnist\n",
    "# START CODE HERE\n",
    "train_data, test_data = tf.keras.datasets.mnist.load_data(path=\"mnist.npz\")\n",
    "print(f'There are {train_data[0].shape[0]} images in the train set')\n",
    "print(f'There are {test_data[0].shape[0]} images in the test set')\n",
    "# END CODE HERE"
   ]
  },
  {
   "cell_type": "code",
   "execution_count": 4,
   "metadata": {},
   "outputs": [],
   "source": [
    "#Load images and labels\n",
    "train_images = train_data[0]\n",
    "test_images = test_data[0]\n",
    "y_train = train_data[1]\n",
    "y_test = test_data[1]"
   ]
  },
  {
   "cell_type": "code",
   "execution_count": 5,
   "metadata": {
    "colab": {
     "base_uri": "https://localhost:8080/",
     "height": 50
    },
    "colab_type": "code",
    "id": "lQbkllF8mnaf",
    "outputId": "b1d3ff0a-89e2-4e97-ef2d-daae210855a9"
   },
   "outputs": [],
   "source": [
    "# Do you remember about one-hot encoding ?\n",
    "from keras.utils.np_utils import to_categorical\n",
    "# START CODE HERE\n",
    "train_samples = y_train.shape[0]\n",
    "test_samples = y_test.shape[0]\n",
    "y_train_onehot = tf.keras.utils.to_categorical(y_train, num_classes=10)\n",
    "y_train_onehot = tf.constant(y_train_onehot, shape=[train_samples, 10])\n",
    "\n",
    "y_test_onehot = tf.keras.utils.to_categorical(y_test, num_classes=10)\n",
    "y_test_onehot = tf.constant(y_test_onehot, shape=[test_samples, 10])\n",
    "# END CODE HERE"
   ]
  },
  {
   "cell_type": "code",
   "execution_count": 6,
   "metadata": {
    "colab": {
     "base_uri": "https://localhost:8080/",
     "height": 84
    },
    "colab_type": "code",
    "id": "ptTRSDo5nJyZ",
    "outputId": "d8a3db4b-fa52-44a7-899f-9b53c1d6215c"
   },
   "outputs": [],
   "source": [
    "# Reshape to proper images with 1 color channel according to backend scheme\n",
    "img_rows, img_cols = train_images.shape[1], train_images.shape[2]\n",
    "# START CODE HERE\n",
    "x_train = train_images.reshape(-1,784).astype('float32')\n",
    "x_test = test_images.reshape(-1,784).astype('float32')\n",
    "# END CODE HERE\n",
    "\n",
    "# Cast pixels from uint8 to float32\n",
    "# train_images = train_images.astype('float32')\n",
    "\n",
    "# Now let us normalize the images so that they have zero mean and standard deviation\n",
    "# Hint: are real testing data statistics known at training time ?\n",
    "# START CODE HERE\n",
    "from sklearn.preprocessing import StandardScaler\n",
    "scaler = StandardScaler()\n",
    "x_train = scaler.fit_transform(x_train)\n",
    "x_test = scaler.transform(x_test)\n",
    "# END CODE HERE"
   ]
  },
  {
   "cell_type": "markdown",
   "metadata": {},
   "source": [
    "## Autoencoder and PCA\n",
    "\n",
    "First, we will try to connect the representation produced by Principal Component Analysis with what is learnt by a simple, linear, autoencoder. We will use the ```scikit-learn``` implementation of the ```PCA``` to obtain the two first components (hint: use the attribute ```.components_```), and visualize them:"
   ]
  },
  {
   "cell_type": "code",
   "execution_count": 7,
   "metadata": {},
   "outputs": [
    {
     "data": {
      "image/png": "[encoded data removed]",
      "text/plain": [
       "<Figure size 432x288 with 1 Axes>"
      ]
     },
     "metadata": {
      "needs_background": "light"
     },
     "output_type": "display_data"
    },
    {
     "data": {
      "image/png": "[encoded data removed]",
      "text/plain": [
       "<Figure size 432x288 with 1 Axes>"
      ]
     },
     "metadata": {
      "needs_background": "light"
     },
     "output_type": "display_data"
    }
   ],
   "source": [
    "# Let's find the first 2 PCA components\n",
    "num_components = 2\n",
    "# START CODE HERE\n",
    "pca = PCA(n_components= num_components)\n",
    "pca.fit(x_train)\n",
    "components = pca.components_\n",
    "# END CODE HERE\n",
    "\n",
    "# Reshape so they resemble images and we can print them\n",
    "# START CODE HERE\n",
    "components = components.reshape(2,28,28)\n",
    "# END CODE HERE\n",
    "\n",
    "# Show the reshaped principal components\n",
    "# START CODE HERE\n",
    "plt.imshow(components[0], cmap='gray')\n",
    "plt.title('First principal component')\n",
    "plt.show()\n",
    "plt.imshow(components[1], cmap='gray')\n",
    "plt.title('Second principal component')\n",
    "plt.show()\n",
    "# END CODE HERE"
   ]
  },
  {
   "cell_type": "code",
   "execution_count": 8,
   "metadata": {},
   "outputs": [
    {
     "name": "stdout",
     "output_type": "stream",
     "text": [
      "The first principal component explains 40.5% of the variance\n",
      "\n",
      "The second principal component explains 29.2% of the variance\n",
      "\n",
      "With these two components, 69.7% of the variance is explained\n"
     ]
    }
   ],
   "source": [
    "# Print the variance explained by those components\n",
    "var = pca.explained_variance_\n",
    "print(f'The first principal component explains {var[0]:.1f}% of the variance\\n')\n",
    "print(f'The second principal component explains {var[1]:.1f}% of the variance\\n')\n",
    "print(f'With these two components, {np.sum(var):.1f}% of the variance is explained')"
   ]
  },
  {
   "cell_type": "markdown",
   "metadata": {},
   "source": [
    "**Comment on the visualization in relation to the variance explained by only keeping the two principal components.**\n",
    "\n",
    ">With the Standard Scaler, the two images are not very easy to analyse and comment, but the PCA gives a good ratio of explained variance.\\\n",
    "If we use another method to preprocess data, like just dividing by 255 to bring back all values between 0 and 1, the obtained images are more self explanatory, but the variance explaned is much smaller."
   ]
  },
  {
   "cell_type": "code",
   "execution_count": 9,
   "metadata": {},
   "outputs": [
    {
     "data": {
      "image/png": "[encoded data removed]",
      "text/plain": [
       "<Figure size 432x288 with 1 Axes>"
      ]
     },
     "metadata": {
      "needs_background": "light"
     },
     "output_type": "display_data"
    },
    {
     "data": {
      "image/png": "[encoded data removed]",
      "text/plain": [
       "<Figure size 432x288 with 1 Axes>"
      ]
     },
     "metadata": {
      "needs_background": "light"
     },
     "output_type": "display_data"
    },
    {
     "name": "stdout",
     "output_type": "stream",
     "text": [
      "With Normalizer:\n",
      "The first principal component explains 5.1% of the variance\n",
      "\n",
      "The second principal component explains 3.7% of the variance\n",
      "\n",
      "With these two components, 8.9% of the variance is explained\n"
     ]
    }
   ],
   "source": [
    "x_train = train_images.reshape(-1,784).astype('float32')/255.0\n",
    "x_test = test_images.reshape(-1,784).astype('float32')/255.0\n",
    "\n",
    "num_components = 2\n",
    "pca = PCA(n_components= num_components)\n",
    "pca.fit(x_train)\n",
    "components = pca.components_\n",
    "\n",
    "# Reshape so they resemble images and we can print them\n",
    "components = components.reshape(2,28,28)\n",
    "\n",
    "# Show the reshaped principal components\n",
    "# START CODE HERE\n",
    "plt.imshow(components[0], cmap='gray')\n",
    "plt.title('First principal component')\n",
    "plt.show()\n",
    "plt.imshow(components[1], cmap='gray')\n",
    "plt.title('Second principal component')\n",
    "plt.show()\n",
    "var = pca.explained_variance_\n",
    "print('With Normalizer:')\n",
    "print(f'The first principal component explains {var[0]:.1f}% of the variance\\n')\n",
    "print(f'The second principal component explains {var[1]:.1f}% of the variance\\n')\n",
    "print(f'With these two components, {np.sum(var):.1f}% of the variance is explained')"
   ]
  },
  {
   "cell_type": "markdown",
   "metadata": {},
   "source": [
    "Here, the two images look like to be a zero and a nine."
   ]
  },
  {
   "cell_type": "markdown",
   "metadata": {},
   "source": [
    "Now, we will use Keras to implement the autoencoder. You can take a look at this [cheatsheet](https://s3.amazonaws.com/assets.datacamp.com/blog_assets/Keras_Cheat_Sheet_Python.pdf) for some basic commands to use keras.\n",
    "\n",
    "In this first case, we implement a **simple linear autoencoder**. Build it in order to have the same capacity as the PCA decomposition (2 hidden dimensions !) we made just above. "
   ]
  },
  {
   "cell_type": "code",
   "execution_count": 10,
   "metadata": {},
   "outputs": [],
   "source": [
    "from tensorflow.keras.models import Model\n",
    "from tensorflow.keras.layers import Input, Dense\n",
    "from tensorflow.keras.optimizers import SGD"
   ]
  },
  {
   "cell_type": "code",
   "execution_count": 11,
   "metadata": {},
   "outputs": [],
   "source": [
    "# Input layer\n",
    "input_layer = Input(shape=(784,), name ='input' )"
   ]
  },
  {
   "cell_type": "code",
   "execution_count": 12,
   "metadata": {},
   "outputs": [],
   "source": [
    "# Encoding layer\n",
    "latent_view = Dense(2)(input_layer)"
   ]
  },
  {
   "cell_type": "code",
   "execution_count": 13,
   "metadata": {},
   "outputs": [],
   "source": [
    "# Decoding layer\n",
    "output_layer = Dense(784, activation='sigmoid', name='output_layer')(latent_view)"
   ]
  },
  {
   "cell_type": "code",
   "execution_count": 14,
   "metadata": {},
   "outputs": [
    {
     "name": "stdout",
     "output_type": "stream",
     "text": [
      "Model: \"ae_model\"\n",
      "_________________________________________________________________\n",
      " Layer (type)                Output Shape              Param #   \n",
      "=================================================================\n",
      " input (InputLayer)          [(None, 784)]             0         \n",
      "                                                                 \n",
      " dense (Dense)               (None, 2)                 1570      \n",
      "                                                                 \n",
      " output_layer (Dense)        (None, 784)               2352      \n",
      "                                                                 \n",
      "=================================================================\n",
      "Total params: 3,922\n",
      "Trainable params: 3,922\n",
      "Non-trainable params: 0\n",
      "_________________________________________________________________\n"
     ]
    }
   ],
   "source": [
    "ae_model = Model(input_layer, output_layer, name='ae_model')\n",
    "ae_model.summary()"
   ]
  },
  {
   "cell_type": "markdown",
   "metadata": {},
   "source": [
    "What loss shoud we use ? Choose the usual one and import it directly from Keras. You can use a simple ```SGD``` optimizer, and then compile the model; finally, train it to rebuild images from the original examples.  "
   ]
  },
  {
   "cell_type": "markdown",
   "metadata": {},
   "source": [
    ">With an auto-encoder, we should use mean squarred error as loss function, which is what is called sum of squared differences is the course."
   ]
  },
  {
   "cell_type": "code",
   "execution_count": 15,
   "metadata": {},
   "outputs": [],
   "source": [
    "from tensorflow.keras.losses import MeanSquaredError\n",
    "loss = 'mean_squared_error'\n",
    "\n",
    "optimizer = SGD(learning_rate=0.1)\n",
    "ae_model.compile(optimizer=optimizer, loss=MeanSquaredError()) "
   ]
  },
  {
   "cell_type": "code",
   "execution_count": 16,
   "metadata": {},
   "outputs": [
    {
     "name": "stdout",
     "output_type": "stream",
     "text": [
      "Epoch 1/10\n",
      "469/469 [==============================] - 2s 3ms/step - loss: 0.2300 - val_loss: 0.2285\n",
      "Epoch 2/10\n",
      "469/469 [==============================] - 1s 3ms/step - loss: 0.2236 - val_loss: 0.2124\n",
      "Epoch 3/10\n",
      "469/469 [==============================] - 1s 3ms/step - loss: 0.1698 - val_loss: 0.1156\n",
      "Epoch 4/10\n",
      "469/469 [==============================] - 1s 3ms/step - loss: 0.0918 - val_loss: 0.0793\n",
      "Epoch 5/10\n",
      "469/469 [==============================] - 1s 3ms/step - loss: 0.0763 - val_loss: 0.0742\n",
      "Epoch 6/10\n",
      "469/469 [==============================] - 1s 3ms/step - loss: 0.0733 - val_loss: 0.0726\n",
      "Epoch 7/10\n",
      "469/469 [==============================] - 2s 3ms/step - loss: 0.0722 - val_loss: 0.0718\n",
      "Epoch 8/10\n",
      "469/469 [==============================] - 1s 3ms/step - loss: 0.0715 - val_loss: 0.0713\n",
      "Epoch 9/10\n",
      "469/469 [==============================] - 1s 3ms/step - loss: 0.0711 - val_loss: 0.0710\n",
      "Epoch 10/10\n",
      "469/469 [==============================] - 1s 3ms/step - loss: 0.0708 - val_loss: 0.0707\n"
     ]
    }
   ],
   "source": [
    "batch_size = 128\n",
    "epochs = 10\n",
    "# No noise here - we want to train a simple auto-encoder and compare visually with PCA\n",
    "history = ae_model.fit(x_train,\n",
    "                       x_train,\n",
    "                       epochs=epochs,\n",
    "                       batch_size=batch_size,\n",
    "                       verbose=1,\n",
    "                       shuffle=True,\n",
    "                       validation_data=(x_test, x_test))"
   ]
  },
  {
   "cell_type": "markdown",
   "metadata": {},
   "source": [
    ">It's quite annoying to see that the loss cannot be reduced further than this. From epoch 5, it stops improving."
   ]
  },
  {
   "cell_type": "markdown",
   "metadata": {},
   "source": [
    "Assuming that the name of your layer (obtained through the command ```model.summary()```) is ```'layer'```, here is the way to obtained the weights. Visualize the weights of the encoder and compare them to the two components obtained through the PCA."
   ]
  },
  {
   "cell_type": "code",
   "execution_count": 17,
   "metadata": {},
   "outputs": [],
   "source": [
    "latent_weights, _ = ae_model.get_layer('dense').get_weights()"
   ]
  },
  {
   "cell_type": "code",
   "execution_count": 18,
   "metadata": {},
   "outputs": [
    {
     "data": {
      "image/png": "[encoded data removed]",
      "text/plain": [
       "<Figure size 720x720 with 2 Axes>"
      ]
     },
     "metadata": {
      "needs_background": "light"
     },
     "output_type": "display_data"
    }
   ],
   "source": [
    "# Show the two dimensions of the encoder, in a similar manner to the principal components\n",
    "# (after reshaping them as images !)\n",
    "# START CODE HERE\n",
    "f, ax = plt.subplots(1,2, figsize=(10,10))\n",
    "ax[0].imshow(latent_weights[:,0].reshape(28,28), cmap='gray')\n",
    "ax[0].set_title('First latent view weight')\n",
    "ax[1].imshow(latent_weights[:,1].reshape(28,28), cmap='gray')\n",
    "ax[1].set_title('Second latent view weight')\n",
    "plt.show()\n",
    "# END CODE HERE"
   ]
  },
  {
   "cell_type": "markdown",
   "metadata": {},
   "source": [
    ">We can see a nine appearing on the second weight. This could probably be better and closer to what we had with the PCA if the loss was further reduced and the training more efficient."
   ]
  },
  {
   "cell_type": "markdown",
   "metadata": {},
   "source": [
    "Now, visualize the images rebuild by the network !"
   ]
  },
  {
   "cell_type": "code",
   "execution_count": 19,
   "metadata": {},
   "outputs": [],
   "source": [
    "# Select a few images at random: look from n\n",
    "n = np.random.randint(0,len(test_images)-5)"
   ]
  },
  {
   "cell_type": "code",
   "execution_count": 20,
   "metadata": {},
   "outputs": [
    {
     "data": {
      "image/png": "[encoded data removed]",
      "text/plain": [
       "<Figure size 1080x1080 with 5 Axes>"
      ]
     },
     "metadata": {
      "needs_background": "light"
     },
     "output_type": "display_data"
    }
   ],
   "source": [
    "# Plot a few images from n  \n",
    "f, ax = plt.subplots(1,5, figsize=(15,15))\n",
    "for i,a in enumerate(range(n,n+5)):\n",
    "    ax[i].imshow(test_images[a].reshape(28,28),cmap='gray')"
   ]
  },
  {
   "cell_type": "code",
   "execution_count": 21,
   "metadata": {},
   "outputs": [
    {
     "data": {
      "image/png": "[encoded data removed]",
      "text/plain": [
       "<Figure size 1080x1080 with 5 Axes>"
      ]
     },
     "metadata": {
      "needs_background": "light"
     },
     "output_type": "display_data"
    }
   ],
   "source": [
    "# Get the prediction from the model\n",
    "ae_images = ae_model.predict(x_test)\n",
    "\n",
    "# And plot them\n",
    "f, ax = plt.subplots(1,5, figsize=(15,15))\n",
    "for i,a in enumerate(range(n,n+5)):\n",
    "    ax[i].imshow(ae_images[a].reshape(28,28),cmap='gray')"
   ]
  },
  {
   "cell_type": "markdown",
   "metadata": {},
   "source": [
    ">This poor rendering shows that the model is not efficiently trained at all. This confirms the issue I have optimizing the loss function.\\\n",
    "It's quite disappointing to see that the model sort of always renders the same image, whatever the input is."
   ]
  },
  {
   "cell_type": "markdown",
   "metadata": {},
   "source": [
    "Do the same ( = build a new model) with a latent dimension that is largely higher than 2. Compare the visualizations and the images that are rebuilt. "
   ]
  },
  {
   "cell_type": "code",
   "execution_count": 22,
   "metadata": {},
   "outputs": [
    {
     "name": "stdout",
     "output_type": "stream",
     "text": [
      "Model: \"ae_model_128\"\n",
      "_________________________________________________________________\n",
      " Layer (type)                Output Shape              Param #   \n",
      "=================================================================\n",
      " input (InputLayer)          [(None, 784)]             0         \n",
      "                                                                 \n",
      " dense_128 (Dense)           (None, 32)                25120     \n",
      "                                                                 \n",
      " output_layer_128 (Dense)    (None, 784)               25872     \n",
      "                                                                 \n",
      "=================================================================\n",
      "Total params: 50,992\n",
      "Trainable params: 50,992\n",
      "Non-trainable params: 0\n",
      "_________________________________________________________________\n"
     ]
    }
   ],
   "source": [
    "# START CODE HERE\n",
    "# Input layer\n",
    "input_layer = Input(shape=(784,), name ='input' )\n",
    "\n",
    "# Encoding layer\n",
    "latent_view = Dense(32, name='dense_128')(input_layer)\n",
    "\n",
    "# Decoding layer\n",
    "output_layer = Dense(784, activation='sigmoid', name='output_layer_128')(latent_view)\n",
    "\n",
    "ae_model_128 = Model(input_layer, output_layer, name='ae_model_128')\n",
    "ae_model_128.summary()\n",
    "# END CODE HERE"
   ]
  },
  {
   "cell_type": "code",
   "execution_count": 23,
   "metadata": {},
   "outputs": [
    {
     "name": "stdout",
     "output_type": "stream",
     "text": [
      "Epoch 1/10\n",
      "469/469 [==============================] - 2s 4ms/step - loss: 0.0530 - val_loss: 0.0312\n",
      "Epoch 2/10\n",
      "469/469 [==============================] - 2s 3ms/step - loss: 0.0254 - val_loss: 0.0204\n",
      "Epoch 3/10\n",
      "469/469 [==============================] - 2s 3ms/step - loss: 0.0180 - val_loss: 0.0154\n",
      "Epoch 4/10\n",
      "469/469 [==============================] - 2s 3ms/step - loss: 0.0142 - val_loss: 0.0125\n",
      "Epoch 5/10\n",
      "469/469 [==============================] - 2s 4ms/step - loss: 0.0120 - val_loss: 0.0110\n",
      "Epoch 6/10\n",
      "469/469 [==============================] - 2s 4ms/step - loss: 0.0110 - val_loss: 0.0103\n",
      "Epoch 7/10\n",
      "469/469 [==============================] - 2s 4ms/step - loss: 0.0105 - val_loss: 0.0100\n",
      "Epoch 8/10\n",
      "469/469 [==============================] - 2s 4ms/step - loss: 0.0103 - val_loss: 0.0099\n",
      "Epoch 9/10\n",
      "469/469 [==============================] - 2s 3ms/step - loss: 0.0102 - val_loss: 0.0098\n",
      "Epoch 10/10\n",
      "469/469 [==============================] - 2s 4ms/step - loss: 0.0101 - val_loss: 0.0097\n"
     ]
    }
   ],
   "source": [
    "optimizer = SGD(learning_rate=1e-1) \n",
    "ae_model_128.compile(optimizer='adam', loss=loss)\n",
    "\n",
    "batch_size = 128\n",
    "epochs = 10\n",
    "# No noise here - we want to train a simple auto-encoder and compare visually with PCA\n",
    "history = ae_model_128.fit(x_train,\n",
    "                       x_train,\n",
    "                       epochs=epochs,\n",
    "                       batch_size=batch_size,\n",
    "                       verbose=1,\n",
    "                       shuffle=True,\n",
    "                       validation_data=(x_test, x_test))"
   ]
  },
  {
   "cell_type": "markdown",
   "metadata": {},
   "source": [
    ">Here I've tried with adam optimizer. It seems to go further in the loss minimization but still get stuck at a certain value from some epoch on."
   ]
  },
  {
   "cell_type": "code",
   "execution_count": 24,
   "metadata": {},
   "outputs": [
    {
     "data": {
      "image/png": "[encoded data removed]",
      "text/plain": [
       "<Figure size 720x720 with 2 Axes>"
      ]
     },
     "metadata": {
      "needs_background": "light"
     },
     "output_type": "display_data"
    }
   ],
   "source": [
    "latent_weights, _ = ae_model_128.get_layer('dense_128').get_weights()\n",
    "f, ax = plt.subplots(1,2, figsize=(10,10))\n",
    "ax[0].imshow(latent_weights[:,0].reshape(28,28), cmap='gray')\n",
    "ax[0].set_title('First latent view weight')\n",
    "ax[1].imshow(latent_weights[:,1].reshape(28,28), cmap='gray')\n",
    "ax[1].set_title('Second latent view weight')\n",
    "plt.show()\n",
    "# END CODE HERE"
   ]
  },
  {
   "cell_type": "code",
   "execution_count": 25,
   "metadata": {},
   "outputs": [],
   "source": [
    "# Select a few images at random: look from n\n",
    "n = np.random.randint(0,len(test_images)-5)"
   ]
  },
  {
   "cell_type": "code",
   "execution_count": 26,
   "metadata": {},
   "outputs": [
    {
     "data": {
      "image/png": "[encoded data removed]",
      "text/plain": [
       "<Figure size 1080x1080 with 5 Axes>"
      ]
     },
     "metadata": {
      "needs_background": "light"
     },
     "output_type": "display_data"
    }
   ],
   "source": [
    "# Plot a few images from n  \n",
    "f, ax = plt.subplots(1,5, figsize=(15,15))\n",
    "for i,a in enumerate(range(n,n+5)):\n",
    "    ax[i].imshow(test_images[a].reshape(28,28),cmap='gray')"
   ]
  },
  {
   "cell_type": "code",
   "execution_count": 27,
   "metadata": {},
   "outputs": [
    {
     "data": {
      "image/png": "[encoded data removed]",
      "text/plain": [
       "<Figure size 1080x1080 with 5 Axes>"
      ]
     },
     "metadata": {
      "needs_background": "light"
     },
     "output_type": "display_data"
    }
   ],
   "source": [
    "# Get the prediction from the model\n",
    "ae_images = ae_model_128.predict(x_test)\n",
    "\n",
    "# And plot them\n",
    "f, ax = plt.subplots(1,5, figsize=(15,15))\n",
    "for i,a in enumerate(range(n,n+5)):\n",
    "    ax[i].imshow(ae_images[a].reshape(28,28),cmap='gray')"
   ]
  },
  {
   "cell_type": "markdown",
   "metadata": {},
   "source": [
    ">The rendered images are already better with this optimizer and a greater dimension of the latent space. The digits are recognizable and the images are close to the initial ones."
   ]
  },
  {
   "cell_type": "markdown",
   "metadata": {},
   "source": [
    "## Denoising auto-encoder "
   ]
  },
  {
   "cell_type": "markdown",
   "metadata": {},
   "source": [
    "Now, we can implement a **de-noising autoencoder**. The following function will transform an array of images by adding it random noise. Create a new autoencoder model, this time with **more layers** and **non-linear activations** (like the ReLU) and train it to rebuild the de-noised images. Display some testing images, with noise, and re-built. "
   ]
  },
  {
   "cell_type": "code",
   "execution_count": 28,
   "metadata": {},
   "outputs": [],
   "source": [
    "def noise(array):\n",
    "    \"\"\"\n",
    "    Adds random noise to each image in the supplied array.\n",
    "    \"\"\"\n",
    "    noise_factor = 0.3\n",
    "    noisy_array = array + noise_factor * np.random.normal(\n",
    "        loc=0.0, scale=1.0, size=array.shape\n",
    "    )\n",
    "    return noisy_array"
   ]
  },
  {
   "cell_type": "code",
   "execution_count": 29,
   "metadata": {},
   "outputs": [],
   "source": [
    "# Create a copy of the data with added noise\n",
    "noisy_train_images = noise(x_train)\n",
    "noisy_test_images = noise(x_test)"
   ]
  },
  {
   "cell_type": "code",
   "execution_count": 30,
   "metadata": {},
   "outputs": [
    {
     "data": {
      "image/png": "[encoded data removed]",
      "text/plain": [
       "<Figure size 864x864 with 4 Axes>"
      ]
     },
     "metadata": {
      "needs_background": "light"
     },
     "output_type": "display_data"
    },
    {
     "data": {
      "image/png": "[encoded data removed]",
      "text/plain": [
       "<Figure size 864x864 with 4 Axes>"
      ]
     },
     "metadata": {
      "needs_background": "light"
     },
     "output_type": "display_data"
    }
   ],
   "source": [
    "# Visualize some of the images with noise against the originals\n",
    "# START CODE HERE\n",
    "random_idx = np.random.randint(0,len(train_images)-4) \n",
    "f, ax = plt.subplots(1, 4, figsize=(12,12))\n",
    "for i,a in enumerate(range(random_idx, random_idx + 4)):\n",
    "    ax[i].imshow(x_train[a].reshape(28,28),cmap='gray')\n",
    "    \n",
    "f, ax = plt.subplots(1, 4, figsize=(12,12))\n",
    "for i,a in enumerate(range(random_idx, random_idx + 4)):\n",
    "    ax[i].imshow(noisy_train_images[a].reshape(28,28),cmap='gray')\n",
    "# END CODE HERE"
   ]
  },
  {
   "cell_type": "code",
   "execution_count": 31,
   "metadata": {},
   "outputs": [
    {
     "name": "stdout",
     "output_type": "stream",
     "text": [
      "Model: \"ae_model_64\"\n",
      "_________________________________________________________________\n",
      " Layer (type)                Output Shape              Param #   \n",
      "=================================================================\n",
      " input (InputLayer)          [(None, 784)]             0         \n",
      "                                                                 \n",
      " dense1_64 (Dense)           (None, 64)                50240     \n",
      "                                                                 \n",
      " dense2_64 (Dense)           (None, 64)                4160      \n",
      "                                                                 \n",
      " dense3_64 (Dense)           (None, 64)                4160      \n",
      "                                                                 \n",
      " dense4_64 (Dense)           (None, 64)                4160      \n",
      "                                                                 \n",
      " output_layer_64 (Dense)     (None, 784)               50960     \n",
      "                                                                 \n",
      "=================================================================\n",
      "Total params: 113,680\n",
      "Trainable params: 113,680\n",
      "Non-trainable params: 0\n",
      "_________________________________________________________________\n"
     ]
    }
   ],
   "source": [
    "# Build a new model with more layers and Relu activations\n",
    "# START CODE HERE\n",
    "# Input layer\n",
    "input_layer = Input(shape=(784,), name ='input' )\n",
    "\n",
    "# Encoding layer\n",
    "latent_view1 = Dense(64, activation='relu', name='dense1_64')(input_layer)\n",
    "latent_view2 = Dense(64, activation='relu', name='dense2_64')(latent_view1)\n",
    "latent_view3 = Dense(64, activation='relu', name='dense3_64')(latent_view2)\n",
    "latent_view4 = Dense(64, activation='relu', name='dense4_64')(latent_view3)\n",
    "\n",
    "# Decoding layer\n",
    "output_layer = Dense(784, activation='sigmoid', name='output_layer_64')(latent_view4)\n",
    "\n",
    "ae_model_64 = Model(input_layer, output_layer, name='ae_model_64')\n",
    "ae_model_64.summary()\n",
    "# END CODE HERE"
   ]
  },
  {
   "cell_type": "code",
   "execution_count": 32,
   "metadata": {},
   "outputs": [
    {
     "name": "stdout",
     "output_type": "stream",
     "text": [
      "Epoch 1/10\n",
      "469/469 [==============================] - 3s 5ms/step - loss: 0.1407 - val_loss: 0.1175\n",
      "Epoch 2/10\n",
      "469/469 [==============================] - 2s 5ms/step - loss: 0.1133 - val_loss: 0.1098\n",
      "Epoch 3/10\n",
      "469/469 [==============================] - 2s 4ms/step - loss: 0.1080 - val_loss: 0.1057\n",
      "Epoch 4/10\n",
      "469/469 [==============================] - 2s 5ms/step - loss: 0.1049 - val_loss: 0.1035\n",
      "Epoch 5/10\n",
      "469/469 [==============================] - 2s 5ms/step - loss: 0.1031 - val_loss: 0.1022\n",
      "Epoch 6/10\n",
      "469/469 [==============================] - 2s 4ms/step - loss: 0.1019 - val_loss: 0.1012\n",
      "Epoch 7/10\n",
      "469/469 [==============================] - 2s 4ms/step - loss: 0.1009 - val_loss: 0.1004\n",
      "Epoch 8/10\n",
      "469/469 [==============================] - 2s 4ms/step - loss: 0.1002 - val_loss: 0.0997\n",
      "Epoch 9/10\n",
      "469/469 [==============================] - 2s 4ms/step - loss: 0.0996 - val_loss: 0.0994\n",
      "Epoch 10/10\n",
      "469/469 [==============================] - 2s 4ms/step - loss: 0.0992 - val_loss: 0.0989\n"
     ]
    }
   ],
   "source": [
    "# Compile it but here, use noised data as inputs !\n",
    "# START CODE HERE\n",
    "optimizer = SGD(learning_rate=1e-1) \n",
    "ae_model_64.compile(optimizer='adam', loss=loss)\n",
    "\n",
    "batch_size = 128\n",
    "epochs = 10\n",
    "history = ae_model_64.fit(noisy_train_images,\n",
    "                       noisy_train_images,\n",
    "                       epochs=epochs,\n",
    "                       batch_size=batch_size,\n",
    "                       verbose=1,\n",
    "                       shuffle=True,\n",
    "                       validation_data=(noisy_test_images, noisy_test_images))\n",
    "# END CODE HERE"
   ]
  },
  {
   "cell_type": "code",
   "execution_count": 33,
   "metadata": {},
   "outputs": [
    {
     "data": {
      "image/png": "[encoded data removed]",
      "text/plain": [
       "<Figure size 1080x1080 with 5 Axes>"
      ]
     },
     "metadata": {
      "needs_background": "light"
     },
     "output_type": "display_data"
    },
    {
     "data": {
      "image/png": "[encoded data removed]",
      "text/plain": [
       "<Figure size 1080x1080 with 5 Axes>"
      ]
     },
     "metadata": {
      "needs_background": "light"
     },
     "output_type": "display_data"
    }
   ],
   "source": [
    "# Visualize the images rebuilt by the model !\n",
    "# START CODE HERE\n",
    "n = np.random.randint(0,len(test_images)-5)\n",
    "# END CODE HERE\n",
    "f, ax = plt.subplots(1,5, figsize=(15,15))\n",
    "for i,a in enumerate(range(n,n+5)):\n",
    "    ax[i].imshow(noisy_test_images[a].reshape(28,28),cmap='gray')\n",
    "    \n",
    "# Get the prediction from the model\n",
    "ae_images = ae_model_64.predict(noisy_test_images)\n",
    "\n",
    "# And plot them\n",
    "f, ax = plt.subplots(1,5, figsize=(15,15))\n",
    "for i,a in enumerate(range(n,n+5)):\n",
    "    ax[i].imshow(ae_images[a].reshape(28,28),cmap='gray')"
   ]
  },
  {
   "cell_type": "markdown",
   "metadata": {},
   "source": [
    ">Even though the loss minimizing phase was still not very good, since we got stuck with a loss a 0.1 approx., we can see that the image are quite well denoised."
   ]
  },
  {
   "cell_type": "markdown",
   "metadata": {},
   "source": [
    "**Assuming that we normalize the images to be in the 0-1 range, what other loss function could we use ?**"
   ]
  },
  {
   "cell_type": "markdown",
   "metadata": {},
   "source": [
    ">With such a normalization, we can also use the softmax function, wich is implemented as Categorical Cross Entropy in Keras"
   ]
  }
 ],
 "metadata": {
  "accelerator": "GPU",
  "colab": {
   "collapsed_sections": [],
   "name": "TP4_1_solution.ipynb",
   "provenance": []
  },
  "kernelspec": {
   "display_name": "Python 3 (ipykernel)",
   "language": "python",
   "name": "python3"
  },
  "language_info": {
   "codemirror_mode": {
    "name": "ipython",
    "version": 3
   },
   "file_extension": ".py",
   "mimetype": "text/x-python",
   "name": "python",
   "nbconvert_exporter": "python",
   "pygments_lexer": "ipython3",
   "version": "3.7.0"
  }
 },
 "nbformat": 4,
 "nbformat_minor": 4
}
